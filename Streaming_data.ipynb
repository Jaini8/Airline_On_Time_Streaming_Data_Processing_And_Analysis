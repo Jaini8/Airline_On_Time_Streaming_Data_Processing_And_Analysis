{
 "cells": [
  {
   "cell_type": "code",
   "execution_count": 3,
   "id": "bc4063b8-7696-417b-85fe-9d0031242b20",
   "metadata": {},
   "outputs": [],
   "source": [
    "from pyspark.sql.types import *"
   ]
  },
  {
   "cell_type": "code",
   "execution_count": 4,
   "id": "4db321cd-2b9b-4018-9047-ed3101822e6e",
   "metadata": {
    "tags": []
   },
   "outputs": [],
   "source": [
    "#Defining schema\n",
    "\n",
    "labels = [\n",
    "              ('Year', StringType()),\n",
    "              ('Month', StringType()),\n",
    "              ('DayofMonth', StringType()),\n",
    "              ('DayOfWeek', StringType()),\n",
    "              ('DepTime', StringType()),\n",
    "              ('CRSDepTime', StringType()),\n",
    "              ('ArrTime', StringType()),\n",
    "              ('CRSArrTime', StringType()),\n",
    "              ('UniqueCarrier', StringType()),\n",
    "              ('FlightNum', StringType()),\n",
    "              ('TailNum', StringType()),\n",
    "              ('ActualElapsedTime', StringType()),\n",
    "              ('CRSElapsedTime', StringType()),\n",
    "              ('AirTime', StringType()),\n",
    "              ('ArrDelay', StringType()),\n",
    "              ('DepDelay', StringType()),\n",
    "              ('Origin', StringType()),\n",
    "              ('Dest', StringType()),\n",
    "              ('Distance', StringType()),\n",
    "              ('TaxiIn', StringType()),\n",
    "              ('TaxiOut', StringType(),\n",
    "              ('Cancelled', StringType())),\n",
    "              ('CancellationCode', StringType()),\n",
    "              ('Diverted', StringType()),\n",
    "              ('CarrierDelay', StringType()),\n",
    "              ('WeatherDelay', StringType()),\n",
    "              ('NASDelay', StringType()),\n",
    "              ('SecurityDelay', StringType()),\n",
    "              ('LateAircraftDelay', StringType())\n",
    "        ]\n",
    "schema = StructType([StructField(x[0], x[1], True) for x in labels])"
   ]
  },
  {
   "cell_type": "code",
   "execution_count": 4,
   "id": "79bb9d30-e02c-43a4-9452-8b5f8288d044",
   "metadata": {},
   "outputs": [],
   "source": [
    "#Reading Streams\n",
    "\n",
    "df = spark \\\n",
    "    .readStream \\\n",
    "    .format(\"parquet\") \\\n",
    "    .option(\"header\", True) \\\n",
    "    .schema(schema) \\\n",
    "    .option(\"maxFilesPerTrigger\",1) \\\n",
    "    .load(\"./spark-warehouse/bucket_data_month_year\")\n",
    "\n",
    "\n",
    "#Creating Temp View table of streamed data\n",
    "df.createOrReplaceTempView(\"temp_df\")"
   ]
  },
  {
   "cell_type": "code",
   "execution_count": 5,
   "id": "ddc6f639-1d0c-4862-bdaf-1ca7ca121689",
   "metadata": {},
   "outputs": [],
   "source": [
    "#Giving the SQL Query\n",
    "\n",
    "sql_df = spark.sql(\"SELECT Month, Year, count(*) FROM temp_df GROUP BY Month, Year\")"
   ]
  },
  {
   "cell_type": "code",
   "execution_count": 7,
   "id": "ef040f6c-1a6c-419a-86bd-85595440ea8b",
   "metadata": {},
   "outputs": [],
   "source": [
    "def foreach_batch_function(df, epoch_id):\n",
    "    df.show(10, False)"
   ]
  },
  {
   "cell_type": "code",
   "execution_count": null,
   "id": "b0adbbd6-0521-4ba0-b7d2-12bd9425b86f",
   "metadata": {},
   "outputs": [],
   "source": [
    "#Streaming output\n",
    "\n",
    "sql_df.writeStream.outputMode(\"update\").foreachBatch(foreach_batch_function).start()\n",
    "spark.streams.awaitAnyTermination()"
   ]
  },
  {
   "cell_type": "code",
   "execution_count": null,
   "id": "67683c48-3620-4be6-8546-44211dd5f86c",
   "metadata": {},
   "outputs": [],
   "source": []
  }
 ],
 "metadata": {
  "kernelspec": {
   "display_name": "Spark 3 in Python 3",
   "language": "python",
   "name": "pyspark3"
  },
  "language_info": {
   "codemirror_mode": {
    "name": "ipython",
    "version": 3
   },
   "file_extension": ".py",
   "mimetype": "text/x-python",
   "name": "python",
   "nbconvert_exporter": "python",
   "pygments_lexer": "ipython3",
   "version": "3.8.10"
  }
 },
 "nbformat": 4,
 "nbformat_minor": 5
}
