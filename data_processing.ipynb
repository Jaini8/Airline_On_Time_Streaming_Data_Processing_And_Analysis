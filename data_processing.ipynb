{
 "cells": [
  {
   "cell_type": "code",
   "execution_count": null,
   "id": "39fb22eb-2e9b-48dd-969d-e6a7b95ed3ab",
   "metadata": {},
   "outputs": [],
   "source": [
    "from pyspark.sql.functions import *\n",
    "from pyspark.sql.types import *\n",
    "from pyspark import SQLContext\n",
    "from pyspark.streaming import StreamingContext\n",
    "from pyspark.sql import HiveContext, SparkSession"
   ]
  },
  {
   "cell_type": "code",
   "execution_count": null,
   "id": "68f008c1-2a30-4b49-8a96-3a6ca44f2f32",
   "metadata": {},
   "outputs": [],
   "source": [
    "#reading all the data files\n",
    "all_data = spark.read.csv(\"./data/[1-9]*.csv\", header = True)"
   ]
  },
  {
   "cell_type": "code",
   "execution_count": null,
   "id": "b689d279-f151-4119-b1a2-0487745fa316",
   "metadata": {},
   "outputs": [],
   "source": [
    "#combining all the data into single file\n",
    "all_data.coalesce(1).write.option(\"header\",\"true\").csv(\"datacsv\")"
   ]
  },
  {
   "cell_type": "code",
   "execution_count": null,
   "id": "bdf9721f-49a5-40bd-b981-935421a70d3e",
   "metadata": {},
   "outputs": [],
   "source": [
    "#reading the main table with 120M records\n",
    "data = spark.read.csv(\"./datacsv/data.csv\", header = True)"
   ]
  },
  {
   "cell_type": "code",
   "execution_count": null,
   "id": "e207861b-8b12-44ac-b0a9-d77ed344f6fa",
   "metadata": {},
   "outputs": [],
   "source": [
    "#filtering the data year wise\n",
    "data = data.filter(\"Year == 1990\").orderBy(\"Month\")"
   ]
  },
  {
   "cell_type": "code",
   "execution_count": null,
   "id": "fc072958-7903-4eb8-a900-2b9f3afdd6bb",
   "metadata": {},
   "outputs": [],
   "source": [
    "# Bucketing the data by taking Months as buckets and partitioning it by Year.\n",
    "#Saving the buckets as Hive Tables\n",
    "\n",
    "data.write.mode('append') \\\n",
    "    .sortBy(\"Month\") \\\n",
    "    .partitionBy(\"Year\") \\\n",
    "    .bucketBy(12,\"Month\") \\\n",
    "    .saveAsTable(\"bucket_data_month_year\")"
   ]
  },
  {
   "cell_type": "code",
   "execution_count": null,
   "metadata": {},
   "outputs": [],
   "source": []
  }
 ],
 "metadata": {
  "kernelspec": {
   "display_name": "Spark 3 in Python 3",
   "language": "python",
   "name": "pyspark3"
  },
  "language_info": {
   "codemirror_mode": {
    "name": "ipython",
    "version": 3
   },
   "file_extension": ".py",
   "mimetype": "text/x-python",
   "name": "python",
   "nbconvert_exporter": "python",
   "pygments_lexer": "ipython3",
   "version": "3.8.10"
  }
 },
 "nbformat": 4,
 "nbformat_minor": 5
}